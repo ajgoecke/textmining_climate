{
 "cells": [
  {
   "cell_type": "code",
   "execution_count": 14,
   "id": "f72944b0-0d99-495d-88f8-07f57c3433e8",
   "metadata": {},
   "outputs": [],
   "source": [
    "#!pip3 install trafilatura"
   ]
  },
  {
   "cell_type": "code",
   "execution_count": 6,
   "id": "a7ae537a-29a5-41eb-8d28-ee3d56727cbf",
   "metadata": {},
   "outputs": [],
   "source": [
    "import trafilatura\n",
    "from trafilatura import fetch_url, extract"
   ]
  },
  {
   "cell_type": "code",
   "execution_count": 7,
   "id": "1d909106-3afd-4e2c-b8d0-43146ee1788e",
   "metadata": {},
   "outputs": [],
   "source": [
    "dowloaded = trafilatura.fetch_url(\"https://eike-klima-energie.eu\")\n",
    "result = extract(dowloaded, record_id=True, output_format=\"csv\", include_comments=True)"
   ]
  },
  {
   "cell_type": "code",
   "execution_count": 11,
   "id": "855922a2-d972-4473-8f57-333f613e2dda",
   "metadata": {
    "collapsed": true,
    "jupyter": {
     "outputs_hidden": true
    },
    "tags": []
   },
   "outputs": [
    {
     "data": {
      "text/plain": [
       "'https://eike-klima-energie.eu\\t/yhOdFmLwxpNO9JOCglqo445XpI=\\teike-klima-energie.eu\\tEIKE - Europäisches Institut für Klima & Energie\\t2021-06-18\\tPeter Murphy Dr. Anthony Fauci hat einen schlimmen Monat hinter sich. Stunden nach seinen fünfzehn Minuten Ruhm hat sich der onkelhafte Dr. Fauci als unehrlich und selbstsüchtig in Bezug auf die Coronavirus-Pandemie erwiesen, nachdem er 18 Monate lang der Liebling der nationalen Medien war. Seine kumulativen Widersprüche und Wahrheitsverfälschungen, insbesondere über die Ursache des globalen Covid-Ausbruchs, sind zu offensichtlich und beunruhigend, um sie zu ignorieren. von Roger Letsch Wie schreibt die Autorin Carolin Emcke eigentlich ihre Texte? Geht sie in den Keller und schließt sich tagelang dort im Dunkeln ein, um den Leidensdruck zu spüren, den sie auszudrücken wünscht? Helmut Kuntz … lief kürzlich als wichtige Eilmeldung durch unsere Gazetten. Und wieder war das natürlich erst der Anfang eines viel schlimmeren Endes: [3] … Die Forscher stellten dabei einen Langzeittrend zu trockener Witterung fest, der sich ab 2015 rasant beschleunigte. Sie gehen davon aus, dass die Veränderungen des Klimas durch die Aktivitäten von Menschen verursacht werden, die den sogenannten Jet Stream beeinflussen … Der Erfolg des Abmahnvereins „Deutsche Umwelthilfe“ und die gewonnenen Prozesse vorm Bundesverfassungsgericht und gegen Royal Dutch Shell im Haag drohen etliche weitere Gerichtsverfahren von NGO-Profiteuren. Stefan Kämpfe Mit 418,61 ppm wies die CO2-Konzentration am Mauna Loa (Hawaii) in diesem Frühling (März bis Mai 2021) die bislang höchste Konzentration in einem Frühling seit Beginn dieser Reihe im März 1958 auf. Mehr noch – diese Zunahme war, trotz des zweiten Corona-Frühlings mit Lockdowns und verminderter Wirtschaftsleistung in Folge, überdurchschnittlich. Gregory Wrightstone Einführung des Herausgebers: Die Zahl der als „Fact Checks“ getarnten Meinungsbeiträge und deren Verwendung zur Zensur einer Seite wissenschaftlicher Debatten hat epidemische Ausmaße erreicht. Wir müssen uns gegen diesen abscheulichen Trend wehren. In der Wissenschaft geht es um Debatten. Die Debatte muss mit fundierten Beweisen geführt werden, mit objektiver Vernunft, ohne persönliche Angriffe, und mit beiden Seiten vertreten. Der folgende Beitrag ist lang, aber er spricht viele von Klima-Alarmisten generierte Medienmythen recht gut und autoritativ an. Bis 2038 sollen alle bundesdeutschen Kohlemeiler abgeschaltet werden – zum Preis von Milliarden-Entschädigungen für die Konzerne, extreme Preiserhöhungen für die Bürger und natürlich zum Preis der Versorgungssicherheit. Im März zeigte sich: Eigentlich längst dichtgemachte Kohlekraftwerke sprangen ein, um das Netz stabil zu halten. Stopthesethings Sauberer‘, ‚grüner‘ Wind und Sonne sollten den Planeten retten, aber die Besessenheit von den Unzuverlässigen Energien wird die Ausbeutung des Planeten nur beschleunigen. Jedes Solarpanel und jede Windkraftanlage sind eine Ansammlung von Mineralien, deren Herstellung Berge von echter und zuverlässiger Energie erfordert. Viele dieser Mineralien sind knapp und werden allgemein als „seltene Erden“ bezeichnet. Dank der steigenden Anzahl von Windrädern und Solarpanels werden viele dieser knappen Mineralien wahrscheinlich noch seltener. …darunter diesmal die „Staubschüssel-Jahre“ der 1930er Jahre Anthony Watts Die US-Umweltschutzbehörde EPA hat unter der neuen Biden-Regierung wieder ihren Climate Change Indicator freigeschaltet. In der neuen Präsentation hat die EPA aber einfach Daten verschwinden lassen, die nicht zu dem Narrativ passen, wonach die Menschen einen gefährlichen Klimawandel verursachen. [Hervorhebung vom Übersetzer] von Klaus Meyer „Vehicle-to-Grid“ (V2G) ist wieder so ein neudeutscher Ausdruck, der schon dadurch positive Erwartungen weckt. Um was geht es? Wir alle wissen, dass es der Energiewende vor allem an einer vernünftigen Speicherlösung fehlt.\\tNeueste Kommentare\\tNone\\n'"
      ]
     },
     "execution_count": 11,
     "metadata": {},
     "output_type": "execute_result"
    }
   ],
   "source": [
    "result"
   ]
  },
  {
   "cell_type": "code",
   "execution_count": 9,
   "id": "d600d211-d883-4385-bcf8-aa2c42c0e31c",
   "metadata": {},
   "outputs": [],
   "source": [
    "import pandas as pd"
   ]
  },
  {
   "cell_type": "code",
   "execution_count": 15,
   "id": "3744cbb9-0a85-484e-8bba-b9f7e16da9f4",
   "metadata": {},
   "outputs": [],
   "source": [
    "#!pip3 install requests bs4 colorama"
   ]
  },
  {
   "cell_type": "code",
   "execution_count": 17,
   "id": "987c3d4b-1c0b-4635-bc70-a4faa5606bac",
   "metadata": {},
   "outputs": [],
   "source": [
    "import requests\n",
    "from urllib.parse import urlparse, urljoin\n",
    "from bs4 import BeautifulSoup\n",
    "import colorama"
   ]
  },
  {
   "cell_type": "code",
   "execution_count": 21,
   "id": "2cd79c2a-9be1-4aa6-a2af-dfaa4c25f322",
   "metadata": {},
   "outputs": [],
   "source": [
    "# init the colorama module\n",
    "colorama.init()\n",
    "GREEN = colorama.Fore.GREEN\n",
    "GRAY = colorama.Fore.LIGHTBLACK_EX\n",
    "RESET = colorama.Fore.RESET\n",
    "YELLOW = colorama.Fore.YELLOW"
   ]
  },
  {
   "cell_type": "code",
   "execution_count": 22,
   "id": "3db11539-25f8-4468-9633-d59ac3ccdf2e",
   "metadata": {},
   "outputs": [],
   "source": [
    "internal_urls = set()\n",
    "external_urls = set()"
   ]
  },
  {
   "cell_type": "code",
   "execution_count": 23,
   "id": "da6789a9-cc6c-4c17-b50e-fd977380ad01",
   "metadata": {},
   "outputs": [],
   "source": [
    "def is_valid(url):\n",
    "    parsed = urlparse(url)\n",
    "    return bool(parsed.netloc) and bool(parsed.scheme)"
   ]
  },
  {
   "cell_type": "code",
   "execution_count": 24,
   "id": "f9eef1b6-b828-4409-af2a-e6788aeaec44",
   "metadata": {},
   "outputs": [],
   "source": [
    "def get_all_website_links(url):\n",
    "    urls = set()\n",
    "    \n",
    "    #domain name of URL without protocol\n",
    "    domain_name = urlparse(url).netloc\n",
    "    soup = BeautifulSoup(requests.get(url).content, \"html.parser\")\n",
    "    \n",
    "    for a_tag in soup.findAll(\"a\"):\n",
    "        href = a_tag.attrs.get(\"href\")\n",
    "        if href == \"\" or href is None:\n",
    "            # href empty tag\n",
    "            continue\n",
    "            \n",
    "        # join the URL if it's relative (not absolute link)\n",
    "        href = urljoin(url, href)\n",
    "        parsed_href = urlparse(href)\n",
    "        # remove URL GET parameters, URL fragments, etc.\n",
    "        href = parsed_href.scheme + \"://\" + parsed_href.netloc + parsed_href.path\n",
    "        if not is_valid(href):\n",
    "            # not a valid URL\n",
    "            continue\n",
    "        if href in internal_urls:\n",
    "            # already in the set\n",
    "            continue\n",
    "        if domain_name not in href:\n",
    "            # external link\n",
    "            if href not in external_urls:\n",
    "                print(f\"{GRAY}[!] External link: {href}{RESET}\")\n",
    "                external_urls.add(href)\n",
    "            continue\n",
    "        print(f\"{GREEN}[*] Internal link: {href}{RESET}\")\n",
    "        urls.add(href)\n",
    "        internal_urls.add(href)\n",
    "    return urls\n",
    "    "
   ]
  },
  {
   "cell_type": "code",
   "execution_count": 25,
   "id": "722bbe73-732e-470d-8eac-220caafcbe63",
   "metadata": {},
   "outputs": [],
   "source": [
    "# number of urls visited so far will be stored here\n",
    "total_urls_visited = 0\n",
    "\n",
    "def crawl(url, max_urls=30):\n",
    "    \"\"\"\n",
    "    Crawls a web page and extracts all links.\n",
    "    You'll find all links in `external_urls` and `internal_urls` global set variables.\n",
    "    params:\n",
    "        max_urls (int): number of max urls to crawl, default is 30.\n",
    "    \"\"\"\n",
    "    global total_urls_visited\n",
    "    total_urls_visited += 1\n",
    "    print(f\"{YELLOW}[*] Crawling: {url}{RESET}\")\n",
    "    links = get_all_website_links(url)\n",
    "    for link in links:\n",
    "        if total_urls_visited > max_urls:\n",
    "            break\n",
    "        crawl(link, max_urls=max_urls)"
   ]
  },
  {
   "cell_type": "code",
   "execution_count": 27,
   "id": "a1a5230c-ac38-4b02-bd60-35553337c823",
   "metadata": {
    "collapsed": true,
    "jupyter": {
     "outputs_hidden": true
    },
    "tags": []
   },
   "outputs": [
    {
     "name": "stdout",
     "output_type": "stream",
     "text": [
      "[*] Crawling: https://eike-klima-energie.eu\n",
      "[*] Internal link: https://eike-klima-energie.eu/\n",
      "[*] Internal link: https://eike-klima-energie.eu/ueber-uns/\n",
      "[*] Internal link: https://eike-klima-energie.eu/datenschutzerklaerung/\n",
      "[*] Internal link: https://eike-klima-energie.eu/ueber-uns/impressum/\n",
      "[*] Internal link: https://eike-klima-energie.eu/ueber-uns/fachbeirat/\n",
      "[*] Internal link: https://eike-klima-energie.eu/ueber-uns/kontakt/\n",
      "[*] Internal link: https://eike-klima-energie.eu/about-us/\n",
      "[*] Internal link: https://eike-klima-energie.eu/die-mission/\n",
      "[*] Internal link: https://eike-klima-energie.eu/die-mission/grundsatzpapier-energie/\n",
      "[*] Internal link: https://eike-klima-energie.eu/die-mission/grundsatzpapier-klima/\n",
      "[!] External link: https://www.youtube.com/channel/UCiiymOmMRMZV9GZSsfTX4qw\n",
      "[*] Internal link: https://eike-klima-energie.eu/13-konferenz/programm/\n",
      "[*] Internal link: https://eike-klima-energie.eu/programm/\n",
      "[*] Internal link: https://eike-klima-energie.eu/veranstaltungsort/\n",
      "[*] Internal link: https://eike-klima-energie.eu/ueber-uns/spenden/\n",
      "[*] Internal link: https://eike-klima-energie.eu/kochen-ohne-strom-trinken-ohne-wasser-michael-limburg-ueber-die-empfehlungen-der-regierung/\n",
      "[*] Internal link: https://eike-klima-energie.eu/author/alex-goehring/\n",
      "[*] Internal link: https://eike-klima-energie.eu/category/energie/\n",
      "[*] Internal link: https://eike-klima-energie.eu/kohlenstoff-kreislauf/\n",
      "[*] Internal link: https://eike-klima-energie.eu/die-anwendung-der-h2-technologie-in-allen-sektoren-verschlingt-unloesbare-mengen-an-energie-und-flaechen/\n",
      "[*] Internal link: https://eike-klima-energie.eu/zum-klimabeschluss-des-bundesverfassungsgerichts-vom-24-maerz-2021/\n",
      "[*] Internal link: https://eike-klima-energie.eu/klimafakten-klimapolitik/\n",
      "[*] Internal link: https://eike-klima-energie.eu/falsches-covid-narrativ-von-fauci-ein-mikro-kosmos-von-klima-luegen/\n",
      "[*] Internal link: https://eike-klima-energie.eu/author/chris-frey/\n",
      "[*] Internal link: https://eike-klima-energie.eu/category/klima/\n",
      "[*] Internal link: https://eike-klima-energie.eu/carolin-emcke-verfolgungswahn-im-klimaexpress/\n",
      "[*] Internal link: https://eike-klima-energie.eu/author/admin/\n",
      "[!] External link: https://de.wikipedia.org/wiki/Carolin_Emcke\n",
      "[*] Internal link: https://eike-klima-energie.eu/duerren-in-europa-seit-2015-die-schlimmsten-seit-mehr-als-2000-jahren-2/\n",
      "[*] Internal link: https://eike-klima-energie.eu/eike-hat-ein-neues-gesicht/\n",
      "[*] Internal link: https://eike-klima-energie.eu/author/webadmin/\n",
      "[*] Internal link: https://eike-klima-energie.eu/category/uncategorized/\n",
      "[*] Internal link: https://eike-klima-energie.eu/die-welt-warnt-dutzende-prozesse-gegen-klimasuender-sind-in-vorbereitung/\n",
      "[*] Internal link: https://eike-klima-energie.eu/nach-dem-zweiten-corona-fruehling-co2-konzentration-steigt-trotzdem-ueberdurchschnittlich/\n",
      "[*] Internal link: https://eike-klima-energie.eu/fact-checking-the-fact-checkers-2/\n",
      "[*] Internal link: https://eike-klima-energie.eu/ist-die-abschaltung-der-kohlekraftwerke-ueberhaupt-moeglich/\n",
      "[*] Internal link: https://eike-klima-energie.eu/praesident-biden-hilft-die-selten-erden-mineralien-der-welt-fuer-den-raeuberischen-green-new-deal-auszubeuten/\n",
      "[*] Internal link: https://eike-klima-energie.eu/author/andreas-demmig/\n",
      "[*] Internal link: https://eike-klima-energie.eu/woher-kommt-der-strom-windstromerzeugung-kraeftig-pv-stromerzeugung-schwach/\n",
      "[*] Internal link: https://eike-klima-energie.eu/epa-laesst-schon-wieder-unbequeme-klimadaten-verschwinden/\n",
      "[*] Internal link: https://eike-klima-energie.eu/vehicle-to-grid-ein-super-konzept/\n",
      "[*] Internal link: https://eike-klima-energie.eu/category/allgemein/\n",
      "[*] Internal link: https://eike-klima-energie.eu\n",
      "[*] Internal link: https://eike-klima-energie.eu/tag/alarmismus/\n",
      "[*] Internal link: https://eike-klima-energie.eu/tag/arktis/\n",
      "[*] Internal link: https://eike-klima-energie.eu/tag/australien/\n",
      "[*] Internal link: https://eike-klima-energie.eu/tag/blackout/\n",
      "[*] Internal link: https://eike-klima-energie.eu/tag/china/\n",
      "[*] Internal link: https://eike-klima-energie.eu/tag/co2/\n",
      "[*] Internal link: https://eike-klima-energie.eu/tag/corona/\n",
      "[*] Internal link: https://eike-klima-energie.eu/tag/deutschland/\n",
      "[*] Internal link: https://eike-klima-energie.eu/tag/diesel/\n",
      "[*] Internal link: https://eike-klima-energie.eu/tag/eeg/\n",
      "[*] Internal link: https://eike-klima-energie.eu/tag/eike/\n",
      "[*] Internal link: https://eike-klima-energie.eu/tag/energie/\n",
      "[*] Internal link: https://eike-klima-energie.eu/tag/energiepolitik/\n",
      "[*] Internal link: https://eike-klima-energie.eu/tag/energiewende/\n",
      "[*] Internal link: https://eike-klima-energie.eu/tag/epa/\n",
      "[*] Internal link: https://eike-klima-energie.eu/tag/erneuerbare/\n",
      "[*] Internal link: https://eike-klima-energie.eu/tag/fridays-for-future/\n",
      "[*] Internal link: https://eike-klima-energie.eu/tag/greta-thunberg/\n",
      "[*] Internal link: https://eike-klima-energie.eu/tag/gruene/\n",
      "[*] Internal link: https://eike-klima-energie.eu/tag/ipcc/\n",
      "[*] Internal link: https://eike-klima-energie.eu/tag/kernenergie/\n",
      "[*] Internal link: https://eike-klima-energie.eu/tag/kernkraft/\n",
      "[*] Internal link: https://eike-klima-energie.eu/tag/klima/\n",
      "[*] Internal link: https://eike-klima-energie.eu/tag/klimahysterie/\n",
      "[*] Internal link: https://eike-klima-energie.eu/tag/klimamodelle/\n",
      "[*] Internal link: https://eike-klima-energie.eu/tag/klimaschutz/\n",
      "[*] Internal link: https://eike-klima-energie.eu/tag/klimawandel/\n",
      "[*] Internal link: https://eike-klima-energie.eu/tag/kohle/\n",
      "[*] Internal link: https://eike-klima-energie.eu/tag/kosten/\n",
      "[*] Internal link: https://eike-klima-energie.eu/tag/medien/\n",
      "[*] Internal link: https://eike-klima-energie.eu/tag/meeresspiegel/\n",
      "[*] Internal link: https://eike-klima-energie.eu/tag/politik/\n",
      "[*] Internal link: https://eike-klima-energie.eu/tag/propaganda/\n",
      "[*] Internal link: https://eike-klima-energie.eu/tag/rahmstorf/\n",
      "[*] Internal link: https://eike-klima-energie.eu/tag/schellnhuber/\n",
      "[*] Internal link: https://eike-klima-energie.eu/tag/statistik/\n",
      "[*] Internal link: https://eike-klima-energie.eu/tag/tesla/\n",
      "[*] Internal link: https://eike-klima-energie.eu/tag/treibhauseffekt/\n",
      "[*] Internal link: https://eike-klima-energie.eu/tag/trump/\n",
      "[*] Internal link: https://eike-klima-energie.eu/tag/usa/\n",
      "[*] Internal link: https://eike-klima-energie.eu/tag/wasserstoff/\n",
      "[*] Internal link: https://eike-klima-energie.eu/tag/windenergie/\n",
      "[*] Internal link: https://eike-klima-energie.eu/tag/windkraft/\n",
      "[*] Internal link: https://eike-klima-energie.eu/tag/windstrom/\n",
      "[*] Internal link: https://eike-klima-energie.eu/tag/wissenschaft/\n",
      "[!] External link: http://www.itcrack.pro\n",
      "[!] External link: http://www.wordpress.org\n",
      "[!] External link: https://www.facebook.com/EIKEeV\n",
      "[!] External link: https://twitter.com/EIKE_KLIMA\n",
      "[*] Crawling: https://eike-klima-energie.eu/die-welt-warnt-dutzende-prozesse-gegen-klimasuender-sind-in-vorbereitung/\n",
      "[!] External link: https://www.welt.de/wirtschaft/plus231607507/Umweltschutz-Jetzt-droht-Deutschland-eine-Welle-von-Klimaklagen.html\n",
      "[!] External link: https://www.greenlegal.eu/verein/\n",
      "[*] Internal link: https://www.eike-klima-energie.eu/2020/11/19/oekozid-ard-aktivismus-in-spielfilmform-zur-besten-sendezeit/\n",
      "[!] External link: https://de.wikipedia.org/wiki/Roda_Verheyen\n",
      "[!] External link: http://www.facebook.com/sharer.php\n",
      "[!] External link: http://twitter.com/intent/tweet\n",
      "[!] External link: https://plus.google.com/share\n",
      "[!] External link: https://www.tumblr.com/share\n",
      "[!] External link: http://www.pinterest.com/pin/create/button/\n",
      "[!] External link: http://www.linkedin.com/shareArticle\n",
      "[!] External link: https://bufferapp.com/add\n",
      "[!] External link: http://www.stumbleupon.com/badge\n",
      "[*] Internal link: https://eike-klima-energie.eu/noch-einmal-michael-crichton-ist-umwelt-bewusstsein-eine-religion/\n",
      "[*] Internal link: https://eike-klima-energie.eu/die-anthropogenen-co2-emissionen-welche-rolle-spielen-sie-tatsaechlich/\n",
      "[*] Internal link: https://eike-klima-energie.eu/1375-oder-14-oder-15-oder-gar-1538-das-ist-hier-die-frage-klimavideo-zur-gretchenfrage-von-welcher-temperatur-ist-eigentlich-die-rede/\n",
      "[*] Internal link: https://eike-klima-energie.eu/wetter-kapriolen-ergebnis-des-klimawandels/\n",
      "[!] External link: http://keine\n",
      "[!] External link: http://Thumulla.com\n",
      "[!] External link: http://www.vernunftkraft-hessen.de/wordpress/2021/06/16/die-welt-warnt-dutzende-prozesse-gegen-klimasuender-sind-in-vorbereitung-eike/\n",
      "[*] Crawling: https://www.eike-klima-energie.eu/2020/11/19/oekozid-ard-aktivismus-in-spielfilmform-zur-besten-sendezeit/\n",
      "[*] Internal link: https://www.eike-klima-energie.eu/about-us/\n",
      "[*] Internal link: https://www.eike-klima-energie.eu/13-konferenz/programm/\n",
      "[!] External link: https://eike-klima-energie.eu/2020/11/19/oekozid-ard-aktivismus-in-spielfilmform-zur-besten-sendezeit/page/2/\n",
      "[!] External link: https://eike-klima-energie.eu/2020/11/19/oekozid-ard-aktivismus-in-spielfilmform-zur-besten-sendezeit/page/3/\n",
      "[!] External link: https://eike-klima-energie.eu/2020/11/19/oekozid-ard-aktivismus-in-spielfilmform-zur-besten-sendezeit/page/706/\n",
      "[*] Crawling: https://www.eike-klima-energie.eu/about-us/\n",
      "[*] Internal link: https://www.eike-klima-energie.eu/ueber-uns/\n",
      "[*] Internal link: https://www.eike-klima-energie.eu/wp-content/uploads/2017/05/eike-flyer-english.pdf\n",
      "[*] Crawling: https://www.eike-klima-energie.eu/ueber-uns/\n",
      "[*] Crawling: https://www.eike-klima-energie.eu/wp-content/uploads/2017/05/eike-flyer-english.pdf\n"
     ]
    },
    {
     "name": "stderr",
     "output_type": "stream",
     "text": [
      "Some characters could not be decoded, and were replaced with REPLACEMENT CHARACTER.\n"
     ]
    },
    {
     "name": "stdout",
     "output_type": "stream",
     "text": [
      "[*] Crawling: https://www.eike-klima-energie.eu/13-konferenz/programm/\n",
      "[*] Internal link: https://www.eike-klima-energie.eu/13-konferenz/tagungsbeitrag/\n",
      "[*] Internal link: https://www.eike-klima-energie.eu/13-konferenz/anmeldung/\n",
      "[*] Internal link: https://www.eike-klima-energie.eu/13-konferenz/veranstaltungsort/\n",
      "[*] Internal link: https://www.eike-klima-energie.eu/13thconference/program/\n",
      "[*] Crawling: https://www.eike-klima-energie.eu/13-konferenz/tagungsbeitrag/\n",
      "[!] External link: https://eike.institute/wp-content/uploads/2019/09/eike13-german-banner.jpg\n",
      "[*] Internal link: https://www.eike-klima-energie.eu/13thconference/fees/\n",
      "[!] External link: https://eike-klima-energie.eu/tagungsbeitrag/\n",
      "[*] Crawling: https://www.eike-klima-energie.eu/13thconference/fees/\n",
      "[*] Internal link: https://www.eike-klima-energie.eu/13thconference/registration/\n",
      "[*] Internal link: https://www.eike-klima-energie.eu/13thconference/venue/\n",
      "[!] External link: https://eike-klima-energie.eu/13thconference/fees/\n",
      "[*] Crawling: https://www.eike-klima-energie.eu/13thconference/registration/\n",
      "[!] External link: https://eike-klima-energie.eu/13thconference/registration/\n",
      "[*] Crawling: https://www.eike-klima-energie.eu/13thconference/venue/\n",
      "[!] External link: https://eike-klima-energie.eu/13thconference/venue/\n",
      "[*] Crawling: https://www.eike-klima-energie.eu/13-konferenz/veranstaltungsort/\n",
      "[*] Crawling: https://www.eike-klima-energie.eu/13thconference/program/\n",
      "[!] External link: https://eike-klima-energie.eu/13thconference/program/\n",
      "[*] Crawling: https://www.eike-klima-energie.eu/13-konferenz/anmeldung/\n",
      "[!] External link: https://eike-klima-energie.eu/anmeldung/\n",
      "[*] Crawling: https://eike-klima-energie.eu/noch-einmal-michael-crichton-ist-umwelt-bewusstsein-eine-religion/\n",
      "[!] External link: https://www.cfact.org/author/dr-jay-lehr/\n",
      "[!] External link: https://www.cfact.org/2021/04/13/michael-crichton-is-environmentalism-a-religion/\n",
      "[!] External link: http://www.chris-frey-welt.de/\n",
      "[*] Internal link: https://eike-klima-energie.eu/bis-greta-thunberg-in-ihr-leben-trat/\n",
      "[*] Internal link: https://eike-klima-energie.eu/leser-reporter-initiative-von-eike-leser-artikel-und-eikepedia/\n",
      "[*] Internal link: https://eike-klima-energie.eu/treibhaus-erderwaermung-klimakatastrophe-klimaschutz-dekarbonisierung-genozid/\n",
      "[*] Internal link: https://eike-klima-energie.eu/zu-elitaer-zu-arrogant-video-mit-clemens-traub/\n",
      "[*] Internal link: https://eike-klima-energie.eu/rekordwaermejahr-2014-nicht-fuer-die-natur-sondern-einzig-fuer-alarmisten/\n",
      "[*] Internal link: https://eike-klima-energie.eu/luftfahrt-freut-euch-des-fliegens/\n",
      "[!] External link: http://heimo.suntinger@aon.at\n",
      "[*] Crawling: https://eike-klima-energie.eu/rekordwaermejahr-2014-nicht-fuer-die-natur-sondern-einzig-fuer-alarmisten/\n",
      "[*] Internal link: https://eike-klima-energie.eu/author/leistenschneider/\n",
      "[*] Internal link: http://www.eike-klima-energie.eu/climategate-anzeige/rekordwaermejahr-2014-haben-ipcc-und-co-doch-recht/\n",
      "[*] Internal link: https://eike-klima-energie.eu/die-lektion-von-fukushima-kernenergie-ist-sicher/\n",
      "[*] Internal link: https://eike-klima-energie.eu/report-subventionen-fuer-solarenergie-kosten-den-us-steuerzahler-39-milliarden-dollar-pro-jahr/\n",
      "[*] Internal link: https://eike-klima-energie.eu/randalen-von-atomfrontkaempfern-werden-von-frau-hendricks-ausdruecklich-als-freunde-des-staates-und-der-gesellschaft-gelobt/\n",
      "[*] Internal link: https://eike-klima-energie.eu/was-sie-schon-immer-ueber-co2-wissen-wollten-teil-5-ohne-co2-kein-leben-auf-der-erde/\n",
      "[*] Internal link: https://eike-klima-energie.eu/klimaschau-13-die-tagesschau-von-sebastian-luening/\n",
      "[*] Internal link: https://eike-klima-energie.eu/die-klimakonferenz-in-kattowitz-klimaspektakel-zum-geldumverteilen-wobei-die-geber-nicht-gefragt-werden-ob-sie-das-wollen/\n",
      "[*] Crawling: https://eike-klima-energie.eu/report-subventionen-fuer-solarenergie-kosten-den-us-steuerzahler-39-milliarden-dollar-pro-jahr/\n",
      "[*] Internal link: https://eike-klima-energie.eu/author/elizabeth-harrington-the-washington-freebeacon/\n",
      "[!] External link: http://protectingtaxpayers.org/assets/files/solar-report-february-12.pdf\n",
      "[!] External link: http://freebeacon.com/issues/report-solar-energy-subsidies-cost-39-billion-per-year/\n",
      "[!] External link: http://www.thegwpf.com/report-solar-energy-subsidies-cost-us-taxpayers-39-billion-per-year/\n",
      "[*] Internal link: https://eike-klima-energie.eu/mitmachen-dringend-erwuenscht-stellungnahmen-zum-gruenbuch-des-bundeswirtschaftsministeriums/\n",
      "[*] Internal link: https://eike-klima-energie.eu/zurueck-in-die-gruene-welt-des-mittelalters/\n",
      "[*] Internal link: https://eike-klima-energie.eu/solar-und-batteriestrom-so-guenstig-wie-noch-nie-es-sei-denn-sie-rechnen-nach/\n",
      "[*] Internal link: https://eike-klima-energie.eu/braucht-das-leben-strahlung/\n",
      "[*] Internal link: https://eike-klima-energie.eu/mehr-arbeitsplaetze-bei-solar-sind-ein-fluch-kein-segen/\n",
      "[*] Crawling: https://eike-klima-energie.eu/zurueck-in-die-gruene-welt-des-mittelalters/\n",
      "[!] External link: https://www.iceagenow.info/back-to-the-medieval-green-world/\n",
      "[*] Internal link: https://eike-klima-energie.eu/die-thunberg-ernmans-eine-unendlich-traurige-familiengeschichte/\n",
      "[*] Internal link: https://eike-klima-energie.eu/wie-geht-klimatricksen-im-tv/\n",
      "[*] Internal link: https://eike-klima-energie.eu/deutschland-steigt-aus-1-der-diesel-gedaechtnistag/\n",
      "[*] Internal link: https://eike-klima-energie.eu/gruene-energieexpertin-das-netz-fungiert-als-speicher/\n",
      "[*] Internal link: https://eike-klima-energie.eu/opportunitaetskosten-der-deutschen-energiewende/\n",
      "[*] Internal link: https://eike-klima-energie.eu/strom-aus-sonne-und-wind-ist-nicht-nach-bedarf-verfuegbar-niemals-und-nirgends/\n",
      "[!] External link: https://www.tichyseinblick.de/kolumnen/alexander-wallasch-heute/zur-eu-wahl-gespraech-mit-waehler-der-gruenen/\n",
      "[!] External link: http://www.aufruhrgebiet%20.de\n",
      "[*] Internal link: http://www.eike-klima-energie.eu/\n",
      "[!] External link: https://www.stern.de/panorama/wissen/klimaforscher-schellnhuber--schwachsinn-ist--wenn-politiker-wieder-in-gummistiefeln-auf-dem-deich-stehen-7756216.html\n",
      "[!] External link: https://www.faz.net/aktuell/wissen/erde-klima/bauen-mit-holz-als-mittel-gegen-den-klimawandel-15836577.html\n",
      "[!] External link: http://www.derwettermann.de/der-wbgu-und-die-bewaeltigung-der-globalen-klimakrise.html\n",
      "[!] External link: http://www.zeit.de/2009/14/DOS-Schellnhuber\n",
      "[!] External link: https://de.wikipedia.org/wiki/Amische\n",
      "[*] Crawling: https://eike-klima-energie.eu/die-thunberg-ernmans-eine-unendlich-traurige-familiengeschichte/\n",
      "[!] External link: https://de.wikipedia.org/wiki/Svante_Thunberg\n",
      "[!] External link: https://www.fischerverlage.de/buch/beata_ernman_svante_thunberg_greta_thunberg_malena_ernman_szenen_aus_dem_herzen/9783103974805\n",
      "[!] External link: https://www.achgut.com/artikel/die_thunberg_ernmans_eine_unendlich_traurige_familiengeschichte\n",
      "[*] Internal link: https://eike-klima-energie.eu/stickoxid-ethanol-strahlung-wie-giftig-sind-diese-gifte/\n",
      "[*] Internal link: https://eike-klima-energie.eu/aufruf-zur-besonnenheit-keine-co2-steuer-samstage-fuer-vernunft/\n",
      "[*] Internal link: https://eike-klima-energie.eu/kurze-antworten-auf-harte-fragen-zum-klimawandel-von-einem-anhaenger-des-agw/\n",
      "[*] Internal link: https://eike-klima-energie.eu/neues-von-der-amo/\n",
      "[*] Internal link: https://eike-klima-energie.eu/als-rechter-abschaum-abgetan-interview-mit-anti-greta-naomi-seibt/\n",
      "[*] Crawling: https://eike-klima-energie.eu/aufruf-zur-besonnenheit-keine-co2-steuer-samstage-fuer-vernunft/\n",
      "[!] External link: mailto://Klima-der-Vernunft@web.de\n",
      "[!] External link: https://klimadervernunft.home.blog/\n",
      "[*] Internal link: https://eike-klima-energie.eu/ver-di-chef-frank-bsirske-ruft-gewerkschafter-zur-teilnahme-an-fridays-for-future-auf/\n",
      "[*] Internal link: https://eike-klima-energie.eu/kinderpropheten-und-missionare-der-klima-katastrophe/\n",
      "[*] Internal link: https://eike-klima-energie.eu/die-klimaschau-von-sebastian-luening-klima-kipppunkte-mit-notausgang/\n",
      "[*] Internal link: https://eike-klima-energie.eu/ein-experiment-zur-ozean-versauerung/\n",
      "[*] Internal link: https://eike-klima-energie.eu/kollateralschaden-gerade-die-aermsten-sind-opfer-verfehlter-klima-energiepolitik-nicht-nur-in-gross-britannien/\n",
      "[*] Internal link: https://eike-klima-energie.eu/2019-the-year-of-peak-green-bullsht/\n",
      "[*] Internal link: https://www.eike-klima-energie.eu/2019/05/06/vor-den-europawahlen-die-gruenen-kritisch-betrachtet-teil-1/\n",
      "[!] External link: https://scripps.ucsd.edu/programs/keelingcurve/wp-content/plugins/sio-bluemoon/graphs/mlo_full_record.png\n",
      "[+] Total Internal links: 199\n",
      "[+] Total External links: 78\n",
      "[+] Total URLs: 277\n"
     ]
    },
    {
     "ename": "NameError",
     "evalue": "name 'max_urls' is not defined",
     "output_type": "error",
     "traceback": [
      "\u001b[0;31m---------------------------------------------------------------------------\u001b[0m",
      "\u001b[0;31mNameError\u001b[0m                                 Traceback (most recent call last)",
      "\u001b[0;32m<ipython-input-27-160c031aac14>\u001b[0m in \u001b[0;36m<module>\u001b[0;34m\u001b[0m\n\u001b[1;32m      4\u001b[0m     \u001b[0mprint\u001b[0m\u001b[0;34m(\u001b[0m\u001b[0;34m\"[+] Total External links:\"\u001b[0m\u001b[0;34m,\u001b[0m \u001b[0mlen\u001b[0m\u001b[0;34m(\u001b[0m\u001b[0mexternal_urls\u001b[0m\u001b[0;34m)\u001b[0m\u001b[0;34m)\u001b[0m\u001b[0;34m\u001b[0m\u001b[0;34m\u001b[0m\u001b[0m\n\u001b[1;32m      5\u001b[0m     \u001b[0mprint\u001b[0m\u001b[0;34m(\u001b[0m\u001b[0;34m\"[+] Total URLs:\"\u001b[0m\u001b[0;34m,\u001b[0m \u001b[0mlen\u001b[0m\u001b[0;34m(\u001b[0m\u001b[0mexternal_urls\u001b[0m\u001b[0;34m)\u001b[0m \u001b[0;34m+\u001b[0m \u001b[0mlen\u001b[0m\u001b[0;34m(\u001b[0m\u001b[0minternal_urls\u001b[0m\u001b[0;34m)\u001b[0m\u001b[0;34m)\u001b[0m\u001b[0;34m\u001b[0m\u001b[0;34m\u001b[0m\u001b[0m\n\u001b[0;32m----> 6\u001b[0;31m     \u001b[0mprint\u001b[0m\u001b[0;34m(\u001b[0m\u001b[0;34m\"[+] Total crawled URLs:\"\u001b[0m\u001b[0;34m,\u001b[0m \u001b[0mmax_urls\u001b[0m\u001b[0;34m)\u001b[0m\u001b[0;34m\u001b[0m\u001b[0;34m\u001b[0m\u001b[0m\n\u001b[0m",
      "\u001b[0;31mNameError\u001b[0m: name 'max_urls' is not defined"
     ]
    }
   ],
   "source": [
    "if __name__ == \"__main__\":\n",
    "    crawl(\"https://eike-klima-energie.eu\")\n",
    "    print(\"[+] Total Internal links:\", len(internal_urls))\n",
    "    print(\"[+] Total External links:\", len(external_urls))\n",
    "    print(\"[+] Total URLs:\", len(external_urls) + len(internal_urls))\n",
    "    print(\"[+] Total crawled URLs:\", max_urls)"
   ]
  },
  {
   "cell_type": "code",
   "execution_count": 29,
   "id": "638c6000-b278-4a80-84ed-03adfe9779ce",
   "metadata": {},
   "outputs": [
    {
     "data": {
      "text/plain": [
       "199"
      ]
     },
     "execution_count": 29,
     "metadata": {},
     "output_type": "execute_result"
    }
   ],
   "source": [
    "len(internal_urls)"
   ]
  },
  {
   "cell_type": "code",
   "execution_count": 31,
   "id": "afad7330-13a0-403d-b5a4-3c94021ba57a",
   "metadata": {},
   "outputs": [
    {
     "name": "stdout",
     "output_type": "stream",
     "text": [
      "Empty DataFrame\n",
      "Columns: []\n",
      "Index: []\n"
     ]
    }
   ],
   "source": [
    "result = pd.DataFrame()\n",
    "print(result)"
   ]
  },
  {
   "cell_type": "code",
   "execution_count": 37,
   "id": "51253564-9697-4b67-97ac-ecfe4050fb25",
   "metadata": {},
   "outputs": [
    {
     "name": "stdout",
     "output_type": "stream",
     "text": [
      "https://eike-klima-energie.eu/die-welt-warnt-dutzende-prozesse-gegen-klimasuender-sind-in-vorbereitung/\n"
     ]
    },
    {
     "ename": "TypeError",
     "evalue": "unsupported operand type(s) for +: 'bool' and 'str'",
     "output_type": "error",
     "traceback": [
      "\u001b[0;31m---------------------------------------------------------------------------\u001b[0m",
      "\u001b[0;31mTypeError\u001b[0m                                 Traceback (most recent call last)",
      "\u001b[0;32m<ipython-input-37-f420d7e7ba64>\u001b[0m in \u001b[0;36m<module>\u001b[0;34m\u001b[0m\n\u001b[1;32m      2\u001b[0m     \u001b[0mprint\u001b[0m\u001b[0;34m(\u001b[0m\u001b[0murl\u001b[0m\u001b[0;34m)\u001b[0m\u001b[0;34m\u001b[0m\u001b[0;34m\u001b[0m\u001b[0m\n\u001b[1;32m      3\u001b[0m     \u001b[0mdowloaded\u001b[0m \u001b[0;34m=\u001b[0m \u001b[0mtrafilatura\u001b[0m\u001b[0;34m.\u001b[0m\u001b[0mfetch_url\u001b[0m\u001b[0;34m(\u001b[0m\u001b[0murl\u001b[0m\u001b[0;34m)\u001b[0m\u001b[0;34m\u001b[0m\u001b[0;34m\u001b[0m\u001b[0m\n\u001b[0;32m----> 4\u001b[0;31m     \u001b[0mdata\u001b[0m \u001b[0;34m=\u001b[0m \u001b[0mextract\u001b[0m\u001b[0;34m(\u001b[0m\u001b[0mdowloaded\u001b[0m\u001b[0;34m,\u001b[0m \u001b[0mrecord_id\u001b[0m\u001b[0;34m=\u001b[0m\u001b[0;32mTrue\u001b[0m\u001b[0;34m,\u001b[0m \u001b[0moutput_format\u001b[0m\u001b[0;34m=\u001b[0m\u001b[0;34m\"csv\"\u001b[0m\u001b[0;34m,\u001b[0m \u001b[0minclude_comments\u001b[0m\u001b[0;34m=\u001b[0m\u001b[0;32mTrue\u001b[0m\u001b[0;34m)\u001b[0m\u001b[0;34m\u001b[0m\u001b[0;34m\u001b[0m\u001b[0m\n\u001b[0m",
      "\u001b[0;32m~/opt/anaconda3/lib/python3.7/site-packages/trafilatura/core.py\u001b[0m in \u001b[0;36mextract\u001b[0;34m(filecontent, url, record_id, no_fallback, include_comments, output_format, tei_validation, target_language, include_tables, include_images, include_formatting, include_links, deduplicate, date_extraction_params, only_with_metadata, with_metadata, max_tree_size, url_blacklist, settingsfile, config)\u001b[0m\n\u001b[1;32m    833\u001b[0m         \u001b[0mdocmeta\u001b[0m\u001b[0;34m[\u001b[0m\u001b[0;34m'fingerprint'\u001b[0m\u001b[0;34m]\u001b[0m \u001b[0;34m=\u001b[0m \u001b[0mcontent_fingerprint\u001b[0m\u001b[0;34m(\u001b[0m\u001b[0mdocmeta\u001b[0m\u001b[0;34m[\u001b[0m\u001b[0;34m'raw-text'\u001b[0m\u001b[0;34m]\u001b[0m\u001b[0;34m)\u001b[0m\u001b[0;34m\u001b[0m\u001b[0;34m\u001b[0m\u001b[0m\n\u001b[1;32m    834\u001b[0m     \u001b[0;31m# return\u001b[0m\u001b[0;34m\u001b[0m\u001b[0;34m\u001b[0m\u001b[0;34m\u001b[0m\u001b[0m\n\u001b[0;32m--> 835\u001b[0;31m     \u001b[0;32mreturn\u001b[0m \u001b[0mdetermine_returnstring\u001b[0m\u001b[0;34m(\u001b[0m\u001b[0mdocmeta\u001b[0m\u001b[0;34m,\u001b[0m \u001b[0moutput_format\u001b[0m\u001b[0;34m,\u001b[0m \u001b[0minclude_formatting\u001b[0m\u001b[0;34m,\u001b[0m \u001b[0minclude_links\u001b[0m\u001b[0;34m,\u001b[0m \u001b[0mtei_validation\u001b[0m\u001b[0;34m)\u001b[0m\u001b[0;34m\u001b[0m\u001b[0;34m\u001b[0m\u001b[0m\n\u001b[0m\u001b[1;32m    836\u001b[0m \u001b[0;34m\u001b[0m\u001b[0m\n\u001b[1;32m    837\u001b[0m \u001b[0;34m\u001b[0m\u001b[0m\n",
      "\u001b[0;32m~/opt/anaconda3/lib/python3.7/site-packages/trafilatura/core.py\u001b[0m in \u001b[0;36mdetermine_returnstring\u001b[0;34m(docmeta, output_format, include_formatting, include_links, tei_validation)\u001b[0m\n\u001b[1;32m    611\u001b[0m             \u001b[0;32melse\u001b[0m\u001b[0;34m:\u001b[0m\u001b[0;34m\u001b[0m\u001b[0;34m\u001b[0m\u001b[0m\n\u001b[1;32m    612\u001b[0m                 \u001b[0mcommentstext\u001b[0m \u001b[0;34m=\u001b[0m \u001b[0;34m''\u001b[0m\u001b[0;34m\u001b[0m\u001b[0;34m\u001b[0m\u001b[0m\n\u001b[0;32m--> 613\u001b[0;31m             \u001b[0mreturnstring\u001b[0m \u001b[0;34m=\u001b[0m \u001b[0mtxttocsv\u001b[0m\u001b[0;34m(\u001b[0m\u001b[0mposttext\u001b[0m\u001b[0;34m,\u001b[0m \u001b[0mcommentstext\u001b[0m\u001b[0;34m,\u001b[0m \u001b[0mdocmeta\u001b[0m\u001b[0;34m)\u001b[0m\u001b[0;34m\u001b[0m\u001b[0;34m\u001b[0m\u001b[0m\n\u001b[0m\u001b[1;32m    614\u001b[0m         \u001b[0;32melif\u001b[0m \u001b[0moutput_format\u001b[0m \u001b[0;34m==\u001b[0m \u001b[0;34m'json'\u001b[0m\u001b[0;34m:\u001b[0m\u001b[0;34m\u001b[0m\u001b[0;34m\u001b[0m\u001b[0m\n\u001b[1;32m    615\u001b[0m             \u001b[0mreturnstring\u001b[0m \u001b[0;34m=\u001b[0m \u001b[0mbuild_json_output\u001b[0m\u001b[0;34m(\u001b[0m\u001b[0mdocmeta\u001b[0m\u001b[0;34m)\u001b[0m\u001b[0;34m\u001b[0m\u001b[0;34m\u001b[0m\u001b[0m\n",
      "\u001b[0;32m~/opt/anaconda3/lib/python3.7/site-packages/trafilatura/utils.py\u001b[0m in \u001b[0;36mtxttocsv\u001b[0;34m(text, comments, docmeta)\u001b[0m\n\u001b[1;32m    211\u001b[0m     \u001b[0;31m# add id up front if provided\u001b[0m\u001b[0;34m\u001b[0m\u001b[0;34m\u001b[0m\u001b[0;34m\u001b[0m\u001b[0m\n\u001b[1;32m    212\u001b[0m     \u001b[0;32mif\u001b[0m \u001b[0mdocmeta\u001b[0m\u001b[0;34m[\u001b[0m\u001b[0;34m'id'\u001b[0m\u001b[0;34m]\u001b[0m \u001b[0;32mis\u001b[0m \u001b[0;32mnot\u001b[0m \u001b[0;32mNone\u001b[0m\u001b[0;34m:\u001b[0m\u001b[0;34m\u001b[0m\u001b[0;34m\u001b[0m\u001b[0m\n\u001b[0;32m--> 213\u001b[0;31m         \u001b[0mtsv_output\u001b[0m \u001b[0;34m=\u001b[0m \u001b[0mdocmeta\u001b[0m\u001b[0;34m[\u001b[0m\u001b[0;34m'id'\u001b[0m\u001b[0;34m]\u001b[0m \u001b[0;34m+\u001b[0m \u001b[0;34m'\\t'\u001b[0m \u001b[0;34m+\u001b[0m \u001b[0mtsv_output\u001b[0m\u001b[0;34m\u001b[0m\u001b[0;34m\u001b[0m\u001b[0m\n\u001b[0m\u001b[1;32m    214\u001b[0m     \u001b[0;32mreturn\u001b[0m \u001b[0mtsv_output\u001b[0m\u001b[0;34m\u001b[0m\u001b[0;34m\u001b[0m\u001b[0m\n\u001b[1;32m    215\u001b[0m \u001b[0;34m\u001b[0m\u001b[0m\n",
      "\u001b[0;31mTypeError\u001b[0m: unsupported operand type(s) for +: 'bool' and 'str'"
     ]
    }
   ],
   "source": [
    "for url in internal_urls:\n",
    "    print(url)\n",
    "    dowloaded = trafilatura.fetch_url(url)\n",
    "    data = extract(dowloaded, record_id=True, output_format=\"csv\", include_comments=True)"
   ]
  },
  {
   "cell_type": "code",
   "execution_count": null,
   "id": "490c2165-d853-48b8-ad76-c38518552a19",
   "metadata": {},
   "outputs": [],
   "source": []
  }
 ],
 "metadata": {
  "kernelspec": {
   "display_name": "Python 3",
   "language": "python",
   "name": "python3"
  },
  "language_info": {
   "codemirror_mode": {
    "name": "ipython",
    "version": 3
   },
   "file_extension": ".py",
   "mimetype": "text/x-python",
   "name": "python",
   "nbconvert_exporter": "python",
   "pygments_lexer": "ipython3",
   "version": "3.7.10"
  }
 },
 "nbformat": 4,
 "nbformat_minor": 5
}
